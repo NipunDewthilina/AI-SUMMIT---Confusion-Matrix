{
 "cells": [
  {
   "cell_type": "code",
   "execution_count": 61,
   "source": [
    "import pandas as pd\r\n",
    "import numpy as np\r\n",
    "import random"
   ],
   "outputs": [],
   "metadata": {}
  },
  {
   "cell_type": "markdown",
   "source": [
    "# Dataset"
   ],
   "metadata": {}
  },
  {
   "cell_type": "code",
   "execution_count": null,
   "source": [
    "df = pd.read_csv('train_data_null_removed.csv')\r\n",
    "df_test = pd.read_csv('test_data_null_removed.csv')\r\n",
    "df.head(3)"
   ],
   "outputs": [
    {
     "data": {
      "text/html": [
       "<div>\n",
       "<style scoped>\n",
       "    .dataframe tbody tr th:only-of-type {\n",
       "        vertical-align: middle;\n",
       "    }\n",
       "\n",
       "    .dataframe tbody tr th {\n",
       "        vertical-align: top;\n",
       "    }\n",
       "\n",
       "    .dataframe thead th {\n",
       "        text-align: right;\n",
       "    }\n",
       "</style>\n",
       "<table border=\"1\" class=\"dataframe\">\n",
       "  <thead>\n",
       "    <tr style=\"text-align: right;\">\n",
       "      <th></th>\n",
       "      <th>Unnamed: 0</th>\n",
       "      <th>primary_identifier</th>\n",
       "      <th>device_type</th>\n",
       "      <th>device_category</th>\n",
       "      <th>gender</th>\n",
       "      <th>district_name</th>\n",
       "      <th>age_group</th>\n",
       "      <th>network_stay</th>\n",
       "      <th>average_monthly_bill_amount</th>\n",
       "      <th>dusage_sum</th>\n",
       "      <th>...</th>\n",
       "      <th>vusage_offnet_max</th>\n",
       "      <th>vusage_offnet_min</th>\n",
       "      <th>vusage_offnet_days</th>\n",
       "      <th>vusage_offnet_avg</th>\n",
       "      <th>vusage_offnet_stddev</th>\n",
       "      <th>number_of_fixed_bb_accounts</th>\n",
       "      <th>number_of_iptv_accounts</th>\n",
       "      <th>add_on_tot_rental</th>\n",
       "      <th>add_on_count</th>\n",
       "      <th>next_month_plan</th>\n",
       "    </tr>\n",
       "  </thead>\n",
       "  <tbody>\n",
       "    <tr>\n",
       "      <th>0</th>\n",
       "      <td>0</td>\n",
       "      <td>6875768</td>\n",
       "      <td>4G</td>\n",
       "      <td>Smartphone</td>\n",
       "      <td>0.0</td>\n",
       "      <td>Kegalle</td>\n",
       "      <td>40-50</td>\n",
       "      <td>0.694534</td>\n",
       "      <td>0.400863</td>\n",
       "      <td>0.035809</td>\n",
       "      <td>...</td>\n",
       "      <td>0.320274</td>\n",
       "      <td>0.0</td>\n",
       "      <td>0.9</td>\n",
       "      <td>0.232406</td>\n",
       "      <td>0.382201</td>\n",
       "      <td>0.0</td>\n",
       "      <td>0.333333</td>\n",
       "      <td>0.026661</td>\n",
       "      <td>0.038659</td>\n",
       "      <td>2</td>\n",
       "    </tr>\n",
       "    <tr>\n",
       "      <th>1</th>\n",
       "      <td>1</td>\n",
       "      <td>6406277</td>\n",
       "      <td>4G</td>\n",
       "      <td>Smartphone</td>\n",
       "      <td>0.0</td>\n",
       "      <td>Galle</td>\n",
       "      <td>40-50</td>\n",
       "      <td>0.106109</td>\n",
       "      <td>0.457370</td>\n",
       "      <td>0.160790</td>\n",
       "      <td>...</td>\n",
       "      <td>0.074237</td>\n",
       "      <td>0.0</td>\n",
       "      <td>0.5</td>\n",
       "      <td>0.046956</td>\n",
       "      <td>0.074547</td>\n",
       "      <td>0.0</td>\n",
       "      <td>0.000000</td>\n",
       "      <td>0.030848</td>\n",
       "      <td>0.043478</td>\n",
       "      <td>1</td>\n",
       "    </tr>\n",
       "    <tr>\n",
       "      <th>2</th>\n",
       "      <td>2</td>\n",
       "      <td>3563570</td>\n",
       "      <td>4G</td>\n",
       "      <td>Smartphone</td>\n",
       "      <td>0.0</td>\n",
       "      <td>Kandy</td>\n",
       "      <td>30-40</td>\n",
       "      <td>0.588424</td>\n",
       "      <td>0.427261</td>\n",
       "      <td>0.105328</td>\n",
       "      <td>...</td>\n",
       "      <td>0.000000</td>\n",
       "      <td>0.0</td>\n",
       "      <td>0.0</td>\n",
       "      <td>0.000000</td>\n",
       "      <td>0.000000</td>\n",
       "      <td>0.0</td>\n",
       "      <td>0.000000</td>\n",
       "      <td>0.000000</td>\n",
       "      <td>0.000000</td>\n",
       "      <td>6</td>\n",
       "    </tr>\n",
       "  </tbody>\n",
       "</table>\n",
       "<p>3 rows × 32 columns</p>\n",
       "</div>"
      ],
      "text/plain": [
       "   Unnamed: 0  primary_identifier device_type device_category  gender  \\\n",
       "0           0             6875768          4G      Smartphone     0.0   \n",
       "1           1             6406277          4G      Smartphone     0.0   \n",
       "2           2             3563570          4G      Smartphone     0.0   \n",
       "\n",
       "  district_name age_group  network_stay  average_monthly_bill_amount  \\\n",
       "0       Kegalle     40-50      0.694534                     0.400863   \n",
       "1         Galle     40-50      0.106109                     0.457370   \n",
       "2         Kandy     30-40      0.588424                     0.427261   \n",
       "\n",
       "   dusage_sum  ...  vusage_offnet_max  vusage_offnet_min  vusage_offnet_days  \\\n",
       "0    0.035809  ...           0.320274                0.0                 0.9   \n",
       "1    0.160790  ...           0.074237                0.0                 0.5   \n",
       "2    0.105328  ...           0.000000                0.0                 0.0   \n",
       "\n",
       "   vusage_offnet_avg  vusage_offnet_stddev  number_of_fixed_bb_accounts  \\\n",
       "0           0.232406              0.382201                          0.0   \n",
       "1           0.046956              0.074547                          0.0   \n",
       "2           0.000000              0.000000                          0.0   \n",
       "\n",
       "   number_of_iptv_accounts  add_on_tot_rental  add_on_count  next_month_plan  \n",
       "0                 0.333333           0.026661      0.038659                2  \n",
       "1                 0.000000           0.030848      0.043478                1  \n",
       "2                 0.000000           0.000000      0.000000                6  \n",
       "\n",
       "[3 rows x 32 columns]"
      ]
     },
     "metadata": {},
     "output_type": "display_data"
    }
   ],
   "metadata": {}
  },
  {
   "cell_type": "code",
   "execution_count": 63,
   "source": [
    "# df.dtypes"
   ],
   "outputs": [],
   "metadata": {}
  },
  {
   "cell_type": "code",
   "execution_count": 64,
   "source": [
    "dff.shape, df2.shape"
   ],
   "outputs": [
    {
     "output_type": "execute_result",
     "data": {
      "text/plain": [
       "((10500, 31), (4500, 30))"
      ]
     },
     "metadata": {},
     "execution_count": 64
    }
   ],
   "metadata": {}
  },
  {
   "cell_type": "code",
   "execution_count": 65,
   "source": [
    "df2['next_month_plan'] = 'PKG1'"
   ],
   "outputs": [],
   "metadata": {}
  },
  {
   "cell_type": "code",
   "execution_count": 66,
   "source": [
    "df = pd.concat([dff, df2])"
   ],
   "outputs": [],
   "metadata": {}
  },
  {
   "cell_type": "code",
   "execution_count": 67,
   "source": [
    "df.shape"
   ],
   "outputs": [
    {
     "output_type": "execute_result",
     "data": {
      "text/plain": [
       "(15000, 31)"
      ]
     },
     "metadata": {},
     "execution_count": 67
    }
   ],
   "metadata": {}
  },
  {
   "cell_type": "code",
   "execution_count": 68,
   "source": [
    "# df.describe()"
   ],
   "outputs": [],
   "metadata": {}
  },
  {
   "cell_type": "code",
   "execution_count": 69,
   "source": [
    "# for column in df.columns:\n",
    "#     print(column + ':', df[column].unique())"
   ],
   "outputs": [],
   "metadata": {}
  },
  {
   "cell_type": "code",
   "execution_count": 70,
   "source": [
    "# df['gender'].isnull().sum()"
   ],
   "outputs": [],
   "metadata": {}
  },
  {
   "cell_type": "code",
   "execution_count": 71,
   "source": [
    "# df['gender'].value_counts()"
   ],
   "outputs": [],
   "metadata": {}
  },
  {
   "cell_type": "code",
   "execution_count": 72,
   "source": [
    "# df['next_month_plan'].value_counts() / 105"
   ],
   "outputs": [],
   "metadata": {}
  },
  {
   "cell_type": "markdown",
   "source": [
    "# NULL values"
   ],
   "metadata": {}
  },
  {
   "cell_type": "code",
   "execution_count": 73,
   "source": [
    "# df.isnull().sum()"
   ],
   "outputs": [],
   "metadata": {}
  },
  {
   "cell_type": "code",
   "execution_count": 74,
   "source": [
    "df[['device_type', 'device_category', 'gender', 'age_group']] = df[['device_type', 'device_category', 'gender', 'age_group']].fillna(df[['device_type', 'device_category', 'gender', 'age_group']].mode().iloc[0])"
   ],
   "outputs": [],
   "metadata": {}
  },
  {
   "cell_type": "code",
   "execution_count": 75,
   "source": [
    "# df.isnull().sum()"
   ],
   "outputs": [],
   "metadata": {}
  },
  {
   "cell_type": "code",
   "execution_count": 76,
   "source": [
    "# for column in ['device_type', 'device_category', 'gender', 'age_group']:\n",
    "#     print(column+':', df[column].value_counts())"
   ],
   "outputs": [],
   "metadata": {}
  },
  {
   "cell_type": "code",
   "execution_count": 77,
   "source": [
    "# df.columns"
   ],
   "outputs": [],
   "metadata": {}
  },
  {
   "cell_type": "code",
   "execution_count": 78,
   "source": [
    "# df[['vusage_offnet_sum', 'vusage_offnet_min', 'vusage_offnet_max', 'vusage_offnet_avg', 'vusage_offnet_days', 'vusage_offnet_stddev']].head()"
   ],
   "outputs": [],
   "metadata": {}
  },
  {
   "cell_type": "code",
   "execution_count": 79,
   "source": [
    "mean_dusage_days = df['dusage_days'].mean()"
   ],
   "outputs": [],
   "metadata": {}
  },
  {
   "cell_type": "code",
   "execution_count": 80,
   "source": [
    "mean_dusage_days"
   ],
   "outputs": [
    {
     "output_type": "execute_result",
     "data": {
      "text/plain": [
       "24.7992"
      ]
     },
     "metadata": {},
     "execution_count": 80
    }
   ],
   "metadata": {}
  },
  {
   "cell_type": "code",
   "execution_count": 81,
   "source": [
    "df['dusage_avg'] = df['dusage_avg'].fillna(df['dusage_sum'] / mean_dusage_days)"
   ],
   "outputs": [],
   "metadata": {}
  },
  {
   "cell_type": "code",
   "execution_count": 82,
   "source": [
    "df['vusage_onnet_avg'] = df['vusage_onnet_avg'].fillna(df['vusage_onnet_sum'] / df['vusage_onnet_days'].mean())"
   ],
   "outputs": [],
   "metadata": {}
  },
  {
   "cell_type": "code",
   "execution_count": 83,
   "source": [
    "df['vusage_offnet_avg'] = df['vusage_offnet_avg'].fillna(df['vusage_offnet_sum'] / df['vusage_offnet_days'].mean())"
   ],
   "outputs": [],
   "metadata": {}
  },
  {
   "cell_type": "code",
   "execution_count": 84,
   "source": [
    "df.isnull().sum()"
   ],
   "outputs": [
    {
     "output_type": "execute_result",
     "data": {
      "text/plain": [
       "primary_identifier                0\n",
       "device_type                       0\n",
       "device_category                   0\n",
       "gender                            0\n",
       "district_name                     0\n",
       "age_group                         0\n",
       "network_stay                      0\n",
       "average_monthly_bill_amount       0\n",
       "dusage_sum                        0\n",
       "dusage_min                        0\n",
       "dusage_max                        0\n",
       "dusage_avg                        0\n",
       "dusage_days                       0\n",
       "dusage_stddev                     0\n",
       "vusage_onnet_sum                  0\n",
       "vusage_onnet_max                  0\n",
       "vusage_onnet_min                  0\n",
       "vusage_onnet_days                 0\n",
       "vusage_onnet_avg                  0\n",
       "vusage_onnet_stddev               0\n",
       "vusage_offnet_sum                 0\n",
       "vusage_offnet_max                 0\n",
       "vusage_offnet_min                 0\n",
       "vusage_offnet_days                0\n",
       "vusage_offnet_avg                 0\n",
       "vusage_offnet_stddev              0\n",
       "number_of_fixed_bb_accounts       0\n",
       "number_of_iptv_accounts           0\n",
       "add_on_tot_rental              5545\n",
       "add_on_count                   5545\n",
       "next_month_plan                   0\n",
       "dtype: int64"
      ]
     },
     "metadata": {},
     "execution_count": 84
    }
   ],
   "metadata": {}
  },
  {
   "cell_type": "code",
   "execution_count": 85,
   "source": [
    "df.head()"
   ],
   "outputs": [
    {
     "output_type": "execute_result",
     "data": {
      "text/html": [
       "<div>\n",
       "<style scoped>\n",
       "    .dataframe tbody tr th:only-of-type {\n",
       "        vertical-align: middle;\n",
       "    }\n",
       "\n",
       "    .dataframe tbody tr th {\n",
       "        vertical-align: top;\n",
       "    }\n",
       "\n",
       "    .dataframe thead th {\n",
       "        text-align: right;\n",
       "    }\n",
       "</style>\n",
       "<table border=\"1\" class=\"dataframe\">\n",
       "  <thead>\n",
       "    <tr style=\"text-align: right;\">\n",
       "      <th></th>\n",
       "      <th>primary_identifier</th>\n",
       "      <th>device_type</th>\n",
       "      <th>device_category</th>\n",
       "      <th>gender</th>\n",
       "      <th>district_name</th>\n",
       "      <th>age_group</th>\n",
       "      <th>network_stay</th>\n",
       "      <th>average_monthly_bill_amount</th>\n",
       "      <th>dusage_sum</th>\n",
       "      <th>dusage_min</th>\n",
       "      <th>...</th>\n",
       "      <th>vusage_offnet_max</th>\n",
       "      <th>vusage_offnet_min</th>\n",
       "      <th>vusage_offnet_days</th>\n",
       "      <th>vusage_offnet_avg</th>\n",
       "      <th>vusage_offnet_stddev</th>\n",
       "      <th>number_of_fixed_bb_accounts</th>\n",
       "      <th>number_of_iptv_accounts</th>\n",
       "      <th>add_on_tot_rental</th>\n",
       "      <th>add_on_count</th>\n",
       "      <th>next_month_plan</th>\n",
       "    </tr>\n",
       "  </thead>\n",
       "  <tbody>\n",
       "    <tr>\n",
       "      <th>0</th>\n",
       "      <td>6875768</td>\n",
       "      <td>4G</td>\n",
       "      <td>Smartphone</td>\n",
       "      <td>MALE</td>\n",
       "      <td>Kegalle</td>\n",
       "      <td>40-50</td>\n",
       "      <td>219</td>\n",
       "      <td>761.62</td>\n",
       "      <td>6317.0</td>\n",
       "      <td>2.773958</td>\n",
       "      <td>...</td>\n",
       "      <td>152.866667</td>\n",
       "      <td>0.0</td>\n",
       "      <td>27.0</td>\n",
       "      <td>25.099383</td>\n",
       "      <td>34.759221</td>\n",
       "      <td>0.0</td>\n",
       "      <td>1.0</td>\n",
       "      <td>NaN</td>\n",
       "      <td>NaN</td>\n",
       "      <td>PKG2</td>\n",
       "    </tr>\n",
       "    <tr>\n",
       "      <th>1</th>\n",
       "      <td>6406277</td>\n",
       "      <td>4G</td>\n",
       "      <td>Smartphone</td>\n",
       "      <td>MALE</td>\n",
       "      <td>Galle</td>\n",
       "      <td>40-50</td>\n",
       "      <td>36</td>\n",
       "      <td>2482.52</td>\n",
       "      <td>28365.0</td>\n",
       "      <td>3.079438</td>\n",
       "      <td>...</td>\n",
       "      <td>35.433333</td>\n",
       "      <td>0.0</td>\n",
       "      <td>15.0</td>\n",
       "      <td>5.071111</td>\n",
       "      <td>6.779644</td>\n",
       "      <td>0.0</td>\n",
       "      <td>0.0</td>\n",
       "      <td>600.0</td>\n",
       "      <td>2.0</td>\n",
       "      <td>PKG1</td>\n",
       "    </tr>\n",
       "    <tr>\n",
       "      <th>2</th>\n",
       "      <td>3563570</td>\n",
       "      <td>4G</td>\n",
       "      <td>Smartphone</td>\n",
       "      <td>MALE</td>\n",
       "      <td>Kandy</td>\n",
       "      <td>30-40</td>\n",
       "      <td>186</td>\n",
       "      <td>1565.55</td>\n",
       "      <td>18581.0</td>\n",
       "      <td>48.193713</td>\n",
       "      <td>...</td>\n",
       "      <td>0.000000</td>\n",
       "      <td>0.0</td>\n",
       "      <td>0.0</td>\n",
       "      <td>0.000000</td>\n",
       "      <td>0.000000</td>\n",
       "      <td>0.0</td>\n",
       "      <td>0.0</td>\n",
       "      <td>0.0</td>\n",
       "      <td>1.0</td>\n",
       "      <td>PKG6</td>\n",
       "    </tr>\n",
       "    <tr>\n",
       "      <th>3</th>\n",
       "      <td>1853666</td>\n",
       "      <td>4G</td>\n",
       "      <td>Smartphone</td>\n",
       "      <td>FEMALE</td>\n",
       "      <td>Colombo</td>\n",
       "      <td>40-50</td>\n",
       "      <td>24</td>\n",
       "      <td>2397.49</td>\n",
       "      <td>91071.0</td>\n",
       "      <td>22.437842</td>\n",
       "      <td>...</td>\n",
       "      <td>0.000000</td>\n",
       "      <td>0.0</td>\n",
       "      <td>0.0</td>\n",
       "      <td>0.000000</td>\n",
       "      <td>0.000000</td>\n",
       "      <td>0.0</td>\n",
       "      <td>0.0</td>\n",
       "      <td>1110.0</td>\n",
       "      <td>2.0</td>\n",
       "      <td>PKG4</td>\n",
       "    </tr>\n",
       "    <tr>\n",
       "      <th>4</th>\n",
       "      <td>2794331</td>\n",
       "      <td>4G</td>\n",
       "      <td>Smartphone</td>\n",
       "      <td>FEMALE</td>\n",
       "      <td>Kandy</td>\n",
       "      <td>50-60</td>\n",
       "      <td>37</td>\n",
       "      <td>2501.75</td>\n",
       "      <td>19736.0</td>\n",
       "      <td>53.302092</td>\n",
       "      <td>...</td>\n",
       "      <td>87.616667</td>\n",
       "      <td>0.0</td>\n",
       "      <td>23.0</td>\n",
       "      <td>11.256522</td>\n",
       "      <td>16.224071</td>\n",
       "      <td>0.0</td>\n",
       "      <td>1.0</td>\n",
       "      <td>1350.0</td>\n",
       "      <td>2.0</td>\n",
       "      <td>PKG4</td>\n",
       "    </tr>\n",
       "  </tbody>\n",
       "</table>\n",
       "<p>5 rows × 31 columns</p>\n",
       "</div>"
      ],
      "text/plain": [
       "   primary_identifier device_type device_category  gender district_name  \\\n",
       "0             6875768          4G      Smartphone    MALE       Kegalle   \n",
       "1             6406277          4G      Smartphone    MALE         Galle   \n",
       "2             3563570          4G      Smartphone    MALE         Kandy   \n",
       "3             1853666          4G      Smartphone  FEMALE       Colombo   \n",
       "4             2794331          4G      Smartphone  FEMALE         Kandy   \n",
       "\n",
       "  age_group  network_stay  average_monthly_bill_amount  dusage_sum  \\\n",
       "0     40-50           219                       761.62      6317.0   \n",
       "1     40-50            36                      2482.52     28365.0   \n",
       "2     30-40           186                      1565.55     18581.0   \n",
       "3     40-50            24                      2397.49     91071.0   \n",
       "4     50-60            37                      2501.75     19736.0   \n",
       "\n",
       "   dusage_min  ...  vusage_offnet_max  vusage_offnet_min  vusage_offnet_days  \\\n",
       "0    2.773958  ...         152.866667                0.0                27.0   \n",
       "1    3.079438  ...          35.433333                0.0                15.0   \n",
       "2   48.193713  ...           0.000000                0.0                 0.0   \n",
       "3   22.437842  ...           0.000000                0.0                 0.0   \n",
       "4   53.302092  ...          87.616667                0.0                23.0   \n",
       "\n",
       "   vusage_offnet_avg  vusage_offnet_stddev  number_of_fixed_bb_accounts  \\\n",
       "0          25.099383             34.759221                          0.0   \n",
       "1           5.071111              6.779644                          0.0   \n",
       "2           0.000000              0.000000                          0.0   \n",
       "3           0.000000              0.000000                          0.0   \n",
       "4          11.256522             16.224071                          0.0   \n",
       "\n",
       "   number_of_iptv_accounts  add_on_tot_rental  add_on_count  next_month_plan  \n",
       "0                      1.0                NaN           NaN             PKG2  \n",
       "1                      0.0              600.0           2.0             PKG1  \n",
       "2                      0.0                0.0           1.0             PKG6  \n",
       "3                      0.0             1110.0           2.0             PKG4  \n",
       "4                      1.0             1350.0           2.0             PKG4  \n",
       "\n",
       "[5 rows x 31 columns]"
      ]
     },
     "metadata": {},
     "execution_count": 85
    }
   ],
   "metadata": {}
  },
  {
   "cell_type": "code",
   "execution_count": 86,
   "source": [
    "df[['add_on_tot_rental', 'add_on_count']] = df[['add_on_tot_rental', 'add_on_count']].fillna(df[['add_on_tot_rental', 'add_on_count']].mean())"
   ],
   "outputs": [],
   "metadata": {}
  },
  {
   "cell_type": "code",
   "execution_count": 87,
   "source": [
    "df.isnull().sum()"
   ],
   "outputs": [
    {
     "output_type": "execute_result",
     "data": {
      "text/plain": [
       "primary_identifier             0\n",
       "device_type                    0\n",
       "device_category                0\n",
       "gender                         0\n",
       "district_name                  0\n",
       "age_group                      0\n",
       "network_stay                   0\n",
       "average_monthly_bill_amount    0\n",
       "dusage_sum                     0\n",
       "dusage_min                     0\n",
       "dusage_max                     0\n",
       "dusage_avg                     0\n",
       "dusage_days                    0\n",
       "dusage_stddev                  0\n",
       "vusage_onnet_sum               0\n",
       "vusage_onnet_max               0\n",
       "vusage_onnet_min               0\n",
       "vusage_onnet_days              0\n",
       "vusage_onnet_avg               0\n",
       "vusage_onnet_stddev            0\n",
       "vusage_offnet_sum              0\n",
       "vusage_offnet_max              0\n",
       "vusage_offnet_min              0\n",
       "vusage_offnet_days             0\n",
       "vusage_offnet_avg              0\n",
       "vusage_offnet_stddev           0\n",
       "number_of_fixed_bb_accounts    0\n",
       "number_of_iptv_accounts        0\n",
       "add_on_tot_rental              0\n",
       "add_on_count                   0\n",
       "next_month_plan                0\n",
       "dtype: int64"
      ]
     },
     "metadata": {},
     "execution_count": 87
    }
   ],
   "metadata": {}
  },
  {
   "cell_type": "code",
   "execution_count": 88,
   "source": [
    "df.shape"
   ],
   "outputs": [
    {
     "output_type": "execute_result",
     "data": {
      "text/plain": [
       "(15000, 31)"
      ]
     },
     "metadata": {},
     "execution_count": 88
    }
   ],
   "metadata": {}
  },
  {
   "cell_type": "code",
   "execution_count": 89,
   "source": [
    "df.to_csv('null_removed_all.csv')"
   ],
   "outputs": [],
   "metadata": {}
  },
  {
   "cell_type": "code",
   "execution_count": 90,
   "source": [
    "data_null = pd.read_csv('null_removed_all.csv')"
   ],
   "outputs": [],
   "metadata": {}
  },
  {
   "cell_type": "code",
   "execution_count": 91,
   "source": [
    "data_null.isnull().sum().sum()"
   ],
   "outputs": [
    {
     "output_type": "execute_result",
     "data": {
      "text/plain": [
       "0"
      ]
     },
     "metadata": {},
     "execution_count": 91
    }
   ],
   "metadata": {}
  },
  {
   "cell_type": "code",
   "execution_count": null,
   "source": [],
   "outputs": [],
   "metadata": {}
  }
 ],
 "metadata": {
  "orig_nbformat": 4,
  "language_info": {
   "name": "python",
   "version": "3.7.11",
   "mimetype": "text/x-python",
   "codemirror_mode": {
    "name": "ipython",
    "version": 3
   },
   "pygments_lexer": "ipython3",
   "nbconvert_exporter": "python",
   "file_extension": ".py"
  },
  "kernelspec": {
   "name": "python3",
   "display_name": "Python 3.7.11 64-bit ('base': conda)"
  },
  "interpreter": {
   "hash": "044798d73bf965f887b248df984b3d7f89a69ced2a45d6c70da00b55799639bf"
  }
 },
 "nbformat": 4,
 "nbformat_minor": 2
}