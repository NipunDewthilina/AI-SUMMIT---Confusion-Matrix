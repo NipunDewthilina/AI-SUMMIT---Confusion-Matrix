{
 "cells": [
  {
   "cell_type": "code",
   "execution_count": 31,
   "source": [
    "import pandas as pd\r\n",
    "import numpy as np"
   ],
   "outputs": [],
   "metadata": {}
  },
  {
   "cell_type": "code",
   "execution_count": 67,
   "source": [
    "df1 = pd.read_csv('lgbm_new_feature_added_49.csv')\r\n",
    "df2 = pd.read_csv('lgbm_new_feature_added_new.csv')\r\n",
    "df3 = pd.read_csv('lgbm_undersample_scaling_tot removed.csv')\r\n",
    "df4 = pd.read_csv('lgbm.csv')\r\n",
    "df0 = pd.read_csv('lgbm_new_feature_added_parameters_f150.csv')\r\n",
    "df = pd.read_csv('lgbm_undersample_scaling_new_feature.csv')\r\n",
    "d = pd.read_csv('lgbm_undersample_scaling_new_feature_0.1.csv')\r\n",
    "cat = pd.read_csv('catboost_undersample_scaling_new_feature.csv')\r\n",
    "lgbm = pd.read_csv('lgbm_undersample.csv')"
   ],
   "outputs": [],
   "metadata": {}
  },
  {
   "cell_type": "code",
   "execution_count": 68,
   "source": [
    "res1 = df1.next_month_plan\r\n",
    "res2 = df2.next_month_plan\r\n",
    "res3 = df3.next_month_plan\r\n",
    "res0 = df0.next_month_plan\r\n",
    "res = d.next_month_plan\r\n",
    "res4 = df4.next_month_plan\r\n",
    "res_kavindya = df.next_month_plan\r\n",
    "cat = cat.next_month_plan\r\n",
    "lgbm = lgbm.next_month_plan"
   ],
   "outputs": [],
   "metadata": {}
  },
  {
   "cell_type": "code",
   "execution_count": null,
   "source": [
    "# df1['13'] = (res1 == res3)\r\n",
    "# df1['13']\r\n"
   ],
   "outputs": [
    {
     "output_type": "execute_result",
     "data": {
      "text/plain": [
       "0        True\n",
       "1        True\n",
       "2       False\n",
       "3        True\n",
       "4        True\n",
       "        ...  \n",
       "4495     True\n",
       "4496     True\n",
       "4497    False\n",
       "4498    False\n",
       "4499    False\n",
       "Name: 13, Length: 4500, dtype: bool"
      ]
     },
     "metadata": {},
     "execution_count": 25
    }
   ],
   "metadata": {}
  },
  {
   "cell_type": "code",
   "execution_count": 26,
   "source": [
    "df1.groupby(['next_month_plan','13'])['primary_identifier']"
   ],
   "outputs": [
    {
     "output_type": "execute_result",
     "data": {
      "text/plain": [
       "<pandas.core.groupby.generic.SeriesGroupBy object at 0x000001B7DCCE7AF0>"
      ]
     },
     "metadata": {},
     "execution_count": 26
    }
   ],
   "metadata": {}
  },
  {
   "cell_type": "code",
   "execution_count": 27,
   "source": [
    "df1['23'] = (res2 == res3)\r\n",
    "df1['13']"
   ],
   "outputs": [
    {
     "output_type": "execute_result",
     "data": {
      "text/plain": [
       "0        True\n",
       "1        True\n",
       "2       False\n",
       "3        True\n",
       "4        True\n",
       "        ...  \n",
       "4495     True\n",
       "4496     True\n",
       "4497    False\n",
       "4498    False\n",
       "4499    False\n",
       "Name: 13, Length: 4500, dtype: bool"
      ]
     },
     "metadata": {},
     "execution_count": 27
    }
   ],
   "metadata": {}
  },
  {
   "cell_type": "code",
   "execution_count": 52,
   "source": [
    "(res4 == res).sum()/4500"
   ],
   "outputs": [
    {
     "output_type": "execute_result",
     "data": {
      "text/plain": [
       "0.7666666666666667"
      ]
     },
     "metadata": {},
     "execution_count": 52
    }
   ],
   "metadata": {}
  },
  {
   "cell_type": "code",
   "execution_count": 69,
   "source": [
    "(lgbm == res).sum()/4500"
   ],
   "outputs": [
    {
     "output_type": "execute_result",
     "data": {
      "text/plain": [
       "0.7811111111111111"
      ]
     },
     "metadata": {},
     "execution_count": 69
    }
   ],
   "metadata": {}
  },
  {
   "cell_type": "code",
   "execution_count": 63,
   "source": [
    "(res_kavindya == res).sum()/4500"
   ],
   "outputs": [
    {
     "output_type": "execute_result",
     "data": {
      "text/plain": [
       "0.8062222222222222"
      ]
     },
     "metadata": {},
     "execution_count": 63
    }
   ],
   "metadata": {}
  },
  {
   "cell_type": "code",
   "execution_count": 57,
   "source": [
    "(res1 == res).sum()/4500"
   ],
   "outputs": [
    {
     "output_type": "execute_result",
     "data": {
      "text/plain": [
       "0.7444444444444445"
      ]
     },
     "metadata": {},
     "execution_count": 57
    }
   ],
   "metadata": {}
  },
  {
   "cell_type": "code",
   "execution_count": 40,
   "source": [
    "(res2 == res).sum()/4500"
   ],
   "outputs": [
    {
     "output_type": "execute_result",
     "data": {
      "text/plain": [
       "0.7964444444444444"
      ]
     },
     "metadata": {},
     "execution_count": 40
    }
   ],
   "metadata": {}
  },
  {
   "cell_type": "code",
   "execution_count": 41,
   "source": [
    "(res3 == res).sum()/4500"
   ],
   "outputs": [
    {
     "output_type": "execute_result",
     "data": {
      "text/plain": [
       "0.7804444444444445"
      ]
     },
     "metadata": {},
     "execution_count": 41
    }
   ],
   "metadata": {}
  },
  {
   "cell_type": "code",
   "execution_count": 60,
   "source": [
    "(cat == res).sum()/4500"
   ],
   "outputs": [
    {
     "output_type": "execute_result",
     "data": {
      "text/plain": [
       "0.7366666666666667"
      ]
     },
     "metadata": {},
     "execution_count": 60
    }
   ],
   "metadata": {}
  },
  {
   "cell_type": "code",
   "execution_count": 17,
   "source": [
    "res1 = list(res1)\r\n",
    "res2 = list(res2)\r\n",
    "res3 = list(res3)"
   ],
   "outputs": [],
   "metadata": {}
  },
  {
   "cell_type": "code",
   "execution_count": null,
   "source": [
    "sum = []\r\n",
    "for i in res1:\r\n",
    "    "
   ],
   "outputs": [],
   "metadata": {}
  },
  {
   "cell_type": "code",
   "execution_count": 15,
   "source": [
    "# df1.next_month_plan.value_counts()/4500"
   ],
   "outputs": [
    {
     "output_type": "execute_result",
     "data": {
      "text/plain": [
       "1    0.352222\n",
       "3    0.207111\n",
       "5    0.149556\n",
       "4    0.080222\n",
       "6    0.073111\n",
       "2    0.067333\n",
       "8    0.045111\n",
       "7    0.025333\n",
       "Name: next_month_plan, dtype: float64"
      ]
     },
     "metadata": {},
     "execution_count": 15
    }
   ],
   "metadata": {}
  },
  {
   "cell_type": "code",
   "execution_count": 16,
   "source": [
    "# df2.next_month_plan.value_counts()/4500"
   ],
   "outputs": [
    {
     "output_type": "execute_result",
     "data": {
      "text/plain": [
       "1    0.336889\n",
       "3    0.194222\n",
       "5    0.156000\n",
       "2    0.084667\n",
       "4    0.083333\n",
       "6    0.077778\n",
       "8    0.035333\n",
       "7    0.031778\n",
       "Name: next_month_plan, dtype: float64"
      ]
     },
     "metadata": {},
     "execution_count": 16
    }
   ],
   "metadata": {}
  },
  {
   "cell_type": "code",
   "execution_count": null,
   "source": [
    "# submission_lgbm = pd.read_csv()"
   ],
   "outputs": [],
   "metadata": {}
  },
  {
   "cell_type": "code",
   "execution_count": 44,
   "source": [
    "df0['next_month_plan'].value_counts()/4500"
   ],
   "outputs": [
    {
     "output_type": "execute_result",
     "data": {
      "text/plain": [
       "1    0.350444\n",
       "3    0.162889\n",
       "5    0.142444\n",
       "2    0.098667\n",
       "4    0.096444\n",
       "6    0.091333\n",
       "8    0.038000\n",
       "7    0.019778\n",
       "Name: next_month_plan, dtype: float64"
      ]
     },
     "metadata": {},
     "execution_count": 44
    }
   ],
   "metadata": {}
  },
  {
   "cell_type": "code",
   "execution_count": null,
   "source": [],
   "outputs": [],
   "metadata": {}
  }
 ],
 "metadata": {
  "orig_nbformat": 4,
  "language_info": {
   "name": "python",
   "version": "3.8.5",
   "mimetype": "text/x-python",
   "codemirror_mode": {
    "name": "ipython",
    "version": 3
   },
   "pygments_lexer": "ipython3",
   "nbconvert_exporter": "python",
   "file_extension": ".py"
  },
  "kernelspec": {
   "name": "python3",
   "display_name": "Python 3.8.5 64-bit ('base': conda)"
  },
  "interpreter": {
   "hash": "0b94b992063fb370dec29386b7bd039408bd0dbb5616761e8b8ebf11467c1c83"
  }
 },
 "nbformat": 4,
 "nbformat_minor": 2
}